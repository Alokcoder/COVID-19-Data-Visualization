{
 "cells": [
  {
   "cell_type": "code",
   "execution_count": null,
   "id": "c87cdf47",
   "metadata": {},
   "outputs": [],
   "source": [
    "import pandas as pd\n",
    "import numpy as np\n",
    "import seaborn as sns\n",
    "import matplotlib.pyplot as plt\n",
    "from sklearn.preprocessing import StandardScaler,OneHotEncoder,LabelEncoder\n",
    "from sklearn.model_selection import train_test_split"
   ]
  },
  {
   "cell_type": "code",
   "execution_count": null,
   "id": "2bfecbef",
   "metadata": {},
   "outputs": [],
   "source": [
    "Data=pd.read_csv('/Users/alok.g.v/Desktop/project/Covid 19/covid_19_india.csv')"
   ]
  },
  {
   "cell_type": "code",
   "execution_count": null,
   "id": "067e8b50",
   "metadata": {},
   "outputs": [],
   "source": [
    "Data.head()"
   ]
  },
  {
   "cell_type": "code",
   "execution_count": null,
   "id": "1e11a8b2",
   "metadata": {},
   "outputs": [],
   "source": [
    "Data.info()"
   ]
  },
  {
   "cell_type": "code",
   "execution_count": null,
   "id": "197ba1e2",
   "metadata": {},
   "outputs": [],
   "source": [
    "Data['Date']=pd.to_datetime(Data['Date'])\n",
    "Data.info()"
   ]
  },
  {
   "cell_type": "markdown",
   "id": "8bfe3845",
   "metadata": {},
   "source": [
    "# Grouping Data via States according to the total number of confirmed cases"
   ]
  },
  {
   "cell_type": "code",
   "execution_count": null,
   "id": "b6bd76bb",
   "metadata": {},
   "outputs": [],
   "source": [
    "result=Data.groupby('State/UnionTerritory')['Confirmed'].agg('sum').reset_index().sort_values('Confirmed',ascending=False)\n",
    "result"
   ]
  },
  {
   "cell_type": "markdown",
   "id": "b6ae8be0",
   "metadata": {},
   "source": [
    "# Tree map to show the number of people affected by covid in each state"
   ]
  },
  {
   "cell_type": "code",
   "execution_count": null,
   "id": "49c1b5d6",
   "metadata": {},
   "outputs": [],
   "source": [
    "import plotly.express as px\n",
    "fig = px.treemap(result, path=[px.Constant(\"India\"), 'State/UnionTerritory'], \n",
    "                 values='Confirmed', color='Confirmed')"
   ]
  },
  {
   "cell_type": "code",
   "execution_count": null,
   "id": "d1c7cd5a",
   "metadata": {
    "scrolled": true
   },
   "outputs": [],
   "source": [
    "fig.show()"
   ]
  },
  {
   "cell_type": "code",
   "execution_count": null,
   "id": "7655fc9c",
   "metadata": {},
   "outputs": [],
   "source": [
    "# Observation from Tree map \n",
    "## Maharastra has had almost twice as many confirmed cases then karnataka which has the the 2nd highest number of confirmed cases"
   ]
  },
  {
   "cell_type": "code",
   "execution_count": null,
   "id": "cc6b074d",
   "metadata": {},
   "outputs": [],
   "source": [
    "result.iloc[:10]"
   ]
  },
  {
   "cell_type": "markdown",
   "id": "5dce512a",
   "metadata": {},
   "source": [
    "# Line plot of top 10 infected states showing the spread of Covid \n",
    "## Plot 1- Spread of covid in the top 10 infected states \n",
    "## Plot 2- The death of covid patients over the same time period\n",
    "## Plot 3- The Recovery of covid patients in the same time period"
   ]
  },
  {
   "cell_type": "code",
   "execution_count": null,
   "id": "1998dff2",
   "metadata": {},
   "outputs": [],
   "source": [
    "t10=['Maharashtra','Karnataka','Kerala','Tamil Nadu','Andhra Pradesh','Uttar Pradesh','Delhi','West Bengal','Chhattisgarh','Rajasthan']\n",
    "Data_t10=Data[Data['State/UnionTerritory'].isin(t10)]\n",
    "plt.figure(figsize=(12,8))\n",
    "sns.lineplot(x='Date',y='Confirmed',data=Data_t10,hue='State/UnionTerritory')"
   ]
  },
  {
   "cell_type": "markdown",
   "id": "c360037d",
   "metadata": {},
   "source": []
  },
  {
   "cell_type": "code",
   "execution_count": null,
   "id": "b1910fcc",
   "metadata": {},
   "outputs": [],
   "source": [
    "t10=['Maharashtra','Karnataka','Kerala','Tamil Nadu','Andhra Pradesh','Uttar Pradesh','Delhi','West Bengal','Chhattisgarh','Rajasthan']\n",
    "Data_t10=Data[Data['State/UnionTerritory'].isin(t10)]\n",
    "plt.figure(figsize=(12,8))\n",
    "sns.lineplot(x='Date',y='Deaths',data=Data_t10,hue='State/UnionTerritory')"
   ]
  },
  {
   "cell_type": "code",
   "execution_count": null,
   "id": "ea014d66",
   "metadata": {},
   "outputs": [],
   "source": [
    "t10=['Maharashtra','Karnataka','Kerala','Tamil Nadu','Andhra Pradesh','Uttar Pradesh','Delhi','West Bengal','Chhattisgarh','Rajasthan']\n",
    "Data_t10=Data[Data['State/UnionTerritory'].isin(t10)]\n",
    "plt.figure(figsize=(12,8))\n",
    "sns.lineplot(x='Date',y='Cured',data=Data_t10,hue='State/UnionTerritory')"
   ]
  },
  {
   "cell_type": "markdown",
   "id": "4fdbcce4",
   "metadata": {},
   "source": [
    "# Observation \n",
    "## 1. The first wave started in April 2020 ,which shows a reduction of daily cases after the November 2020\n",
    "## 2. The secound wave started in Maharastra in March 2021 but other states saw the start of the secound wave on April 2021\n",
    "## 3. Kerala shows to have had the sharpest rise in cases and also the highest recovery rate \n",
    "## 4. Kerala also show a low death rate compared to the Death rate in other states "
   ]
  },
  {
   "cell_type": "code",
   "execution_count": null,
   "id": "374e8072",
   "metadata": {},
   "outputs": [],
   "source": []
  },
  {
   "cell_type": "markdown",
   "id": "4a331864",
   "metadata": {},
   "source": [
    "# Indian Map representing teh number of confirmed cases per state"
   ]
  },
  {
   "cell_type": "code",
   "execution_count": null,
   "id": "eeede6e5",
   "metadata": {},
   "outputs": [],
   "source": [
    "import plotly.express as px\n",
    "import json\n",
    "india_states=json.load(open('/Users/alok.g.v/Desktop/project/india states json/GeoJson-Data-of-Indian-States-master/Indian_States'))\n",
    "fig = px.choropleth(\n",
    "    Data,\n",
    "    geojson=india_states,\n",
    "    locations='State/UnionTerritory',\n",
    "    color='Confirmed',\n",
    "    featureidkey=\"properties.NAME_1\",\n",
    "    center={\"lat\": 23.2599, \"lon\": 77.4126},scope='asia'\n",
    ")\n",
    "\n",
    "fig.show()\n"
   ]
  },
  {
   "cell_type": "markdown",
   "id": "c22f2537",
   "metadata": {},
   "source": [
    "# Indian Map showing the Death of covid patients "
   ]
  },
  {
   "cell_type": "code",
   "execution_count": null,
   "id": "f607096d",
   "metadata": {},
   "outputs": [],
   "source": [
    "fig = px.choropleth(\n",
    "    Data,\n",
    "    geojson=india_states,\n",
    "    locations='State/UnionTerritory',\n",
    "    color='Deaths',\n",
    "    featureidkey=\"properties.NAME_1\",\n",
    "    center={\"lat\": 23.2599, \"lon\": 77.4126},scope='asia'\n",
    ")\n",
    "\n",
    "fig.show()\n",
    "\n"
   ]
  },
  {
   "cell_type": "markdown",
   "id": "9308df05",
   "metadata": {},
   "source": [
    "# Vaccine Data Analysis"
   ]
  },
  {
   "cell_type": "code",
   "execution_count": null,
   "id": "6a00ca9f",
   "metadata": {},
   "outputs": [],
   "source": [
    "Data_vaccine=pd.read_csv('/Users/alok.g.v/Desktop/project/Covid 19/vaccine_doses_statewise_v2.csv')\n",
    "Data_vaccine['Vaccinated As of']=pd.to_datetime(Data_vaccine['Vaccinated As of'],infer_datetime_format=True)"
   ]
  },
  {
   "cell_type": "code",
   "execution_count": null,
   "id": "44c7619c",
   "metadata": {},
   "outputs": [],
   "source": [
    "Data_vaccine.info()"
   ]
  },
  {
   "cell_type": "markdown",
   "id": "a4e1616e",
   "metadata": {},
   "source": [
    "# Top ten states in vaccine distribution"
   ]
  },
  {
   "cell_type": "code",
   "execution_count": null,
   "id": "f6fd0f3c",
   "metadata": {},
   "outputs": [],
   "source": [
    "result=Data_vaccine.groupby('State')['Total Doses Administered'].agg('max').reset_index().sort_values('Total Doses Administered',ascending=False)\n",
    "\n",
    "result.drop(labels=33,inplace=True)\n",
    "result.head(10)"
   ]
  },
  {
   "cell_type": "markdown",
   "id": "f38fdf4b",
   "metadata": {},
   "source": [
    "# Tree map to show the number of people administered with covid vaccine of each state"
   ]
  },
  {
   "cell_type": "code",
   "execution_count": null,
   "id": "c6bc98fa",
   "metadata": {},
   "outputs": [],
   "source": [
    "fig = px.treemap(result, path=[px.Constant(\"India\"), 'State'], \n",
    "                 values='Total Doses Administered', color='Total Doses Administered')\n",
    "fig.show()"
   ]
  },
  {
   "cell_type": "markdown",
   "id": "39d5a145",
   "metadata": {},
   "source": [
    "# Plot Displaying the total distribution of vaccines in the Top 10 states "
   ]
  },
  {
   "cell_type": "code",
   "execution_count": null,
   "id": "852ca352",
   "metadata": {
    "scrolled": true
   },
   "outputs": [],
   "source": [
    "t10=['Maharashtra','Karnataka','Madhya Pradesh','Tamil Nadu','Gujarat','Uttar Pradesh','Bihar','West Bengal','Andhra Pradesh','Rajasthan']\n",
    "Data_v_t10=Data_vaccine[Data_vaccine['State'].isin(t10)]\n",
    "plt.figure(figsize=(12,8))\n",
    "sns.lineplot(x='Vaccinated As of',y='Total Doses Administered',data=Data_v_t10,hue='State')"
   ]
  },
  {
   "cell_type": "markdown",
   "id": "fce43d18",
   "metadata": {},
   "source": [
    "# Plot displaying the data on the first and second dose of the top 10 states "
   ]
  },
  {
   "cell_type": "code",
   "execution_count": null,
   "id": "24ccf5d2",
   "metadata": {},
   "outputs": [],
   "source": [
    "plt.figure(figsize=(12,8))\n",
    "sns.lineplot(x='Vaccinated As of',y='First Dose Administered',data=Data_v_t10,hue='State')"
   ]
  },
  {
   "cell_type": "code",
   "execution_count": null,
   "id": "b61bf4ea",
   "metadata": {},
   "outputs": [],
   "source": [
    "plt.figure(figsize=(12,8))\n",
    "sns.lineplot(x='Vaccinated As of',y='Second Dose Administered',data=Data_v_t10,hue='State')"
   ]
  },
  {
   "cell_type": "code",
   "execution_count": null,
   "id": "73057d3b",
   "metadata": {},
   "outputs": [],
   "source": [
    "fig = px.choropleth(\n",
    "    Data_v_t10,\n",
    "    geojson=india_states,\n",
    "    locations='State',\n",
    "    color='Total Doses Administered',\n",
    "    featureidkey=\"properties.NAME_1\",\n",
    "    center={\"lat\": 23.2599, \"lon\": 77.4126},scope='asia'\n",
    ")\n",
    "\n",
    "fig.show()\n",
    "\n"
   ]
  },
  {
   "cell_type": "markdown",
   "id": "8d4fe1be",
   "metadata": {},
   "source": [
    "# Merging the vaccine data and covid spread data on the basis of date and state"
   ]
  },
  {
   "cell_type": "code",
   "execution_count": null,
   "id": "428ae9b5",
   "metadata": {},
   "outputs": [],
   "source": [
    "Data_vaccine.rename(columns={'Vaccinated As of':'Date','State':'State/UnionTerritory'}, inplace=True)\n",
    "\n",
    "\n",
    "\n",
    "Data_m = pd.merge(Data,Data_vaccine, how='inner', on=['Date','State/UnionTerritory'])\n",
    "Data_m\n"
   ]
  },
  {
   "cell_type": "markdown",
   "id": "61a02a7c",
   "metadata": {},
   "source": [
    "# Following data shows the states with the most confirmed cases and the total vaccine distribution "
   ]
  },
  {
   "cell_type": "code",
   "execution_count": null,
   "id": "d9856754",
   "metadata": {},
   "outputs": [],
   "source": [
    "t10=['Maharashtra','Karnataka','Madhya Pradesh','Tamil Nadu','Gujarat','Uttar Pradesh','Bihar','West Bengal','Andhra Pradesh','Rajasthan']\n",
    "\n",
    "Data_m_t10=Data_m[Data_m['State/UnionTerritory'].isin(t10)]\n",
    "\n",
    "\n",
    "\n",
    "result=Data_m_t10.groupby('State/UnionTerritory')['Confirmed'].agg('sum').reset_index().sort_values('Confirmed',ascending=False)\n",
    "result_v=Data_m_t10.groupby('State/UnionTerritory')['Total Doses Administered'].agg('max').reset_index().sort_values('Total Doses Administered',ascending=False)\n",
    "result_m= pd.merge(result,result_v, how='inner', on='State/UnionTerritory')\n",
    "result_m\n"
   ]
  },
  {
   "cell_type": "code",
   "execution_count": null,
   "id": "f599d96a",
   "metadata": {},
   "outputs": [],
   "source": [
    "result_m[['State/UnionTerritory','Confirmed','Total Doses Administered']].plot(x='State/UnionTerritory', kind='bar')"
   ]
  },
  {
   "cell_type": "markdown",
   "id": "e8416be3",
   "metadata": {},
   "source": []
  },
  {
   "cell_type": "code",
   "execution_count": null,
   "id": "9a0b063b",
   "metadata": {},
   "outputs": [],
   "source": []
  },
  {
   "cell_type": "code",
   "execution_count": null,
   "id": "98b84d75",
   "metadata": {},
   "outputs": [],
   "source": []
  },
  {
   "cell_type": "code",
   "execution_count": null,
   "id": "ea92b6ed",
   "metadata": {},
   "outputs": [],
   "source": []
  }
 ],
 "metadata": {
  "kernelspec": {
   "display_name": "Python 3",
   "language": "python",
   "name": "python3"
  },
  "language_info": {
   "codemirror_mode": {
    "name": "ipython",
    "version": 3
   },
   "file_extension": ".py",
   "mimetype": "text/x-python",
   "name": "python",
   "nbconvert_exporter": "python",
   "pygments_lexer": "ipython3",
   "version": "3.8.8"
  }
 },
 "nbformat": 4,
 "nbformat_minor": 5
}
